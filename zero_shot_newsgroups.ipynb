{
 "cells": [
  {
   "cell_type": "code",
   "execution_count": 1,
   "id": "1f7f9215",
   "metadata": {},
   "outputs": [
    {
     "data": {
      "application/javascript": [
       "\n",
       "            setTimeout(function() {\n",
       "                var nbb_cell_id = 1;\n",
       "                var nbb_unformatted_code = \"import re\\nimport os\\nimport sklearn\\nimport tensorflow as tf\\nimport numpy as np\\nimport pandas as pd\\nimport seaborn as sns\\nimport matplotlib.pyplot as plt\\nfrom transformers import pipeline\\nfrom sklearn.utils import shuffle\\nfrom sklearn.datasets import fetch_20newsgroups\\n\\n\\n%load_ext nb_black\";\n",
       "                var nbb_formatted_code = \"import re\\nimport os\\nimport sklearn\\nimport tensorflow as tf\\nimport numpy as np\\nimport pandas as pd\\nimport seaborn as sns\\nimport matplotlib.pyplot as plt\\nfrom transformers import pipeline\\nfrom sklearn.utils import shuffle\\nfrom sklearn.datasets import fetch_20newsgroups\\n\\n\\n%load_ext nb_black\";\n",
       "                var nbb_cells = Jupyter.notebook.get_cells();\n",
       "                for (var i = 0; i < nbb_cells.length; ++i) {\n",
       "                    if (nbb_cells[i].input_prompt_number == nbb_cell_id) {\n",
       "                        if (nbb_cells[i].get_text() == nbb_unformatted_code) {\n",
       "                             nbb_cells[i].set_text(nbb_formatted_code);\n",
       "                        }\n",
       "                        break;\n",
       "                    }\n",
       "                }\n",
       "            }, 500);\n",
       "            "
      ],
      "text/plain": [
       "<IPython.core.display.Javascript object>"
      ]
     },
     "metadata": {},
     "output_type": "display_data"
    }
   ],
   "source": [
    "import re\n",
    "import os\n",
    "import sklearn\n",
    "import tensorflow as tf\n",
    "import numpy as np\n",
    "import pandas as pd\n",
    "import seaborn as sns\n",
    "import matplotlib.pyplot as plt\n",
    "from transformers import pipeline\n",
    "from sklearn.utils import shuffle\n",
    "from sklearn.datasets import fetch_20newsgroups\n",
    "\n",
    "\n",
    "%load_ext nb_black"
   ]
  },
  {
   "cell_type": "code",
   "execution_count": 2,
   "id": "cb701bfd",
   "metadata": {},
   "outputs": [
    {
     "data": {
      "application/javascript": [
       "\n",
       "            setTimeout(function() {\n",
       "                var nbb_cell_id = 2;\n",
       "                var nbb_unformatted_code = \"newsgroups_train = fetch_20newsgroups(\\n    subset=\\\"train\\\", remove=(\\\"headers\\\", \\\"footers\\\", \\\"quotes\\\")\\n)\";\n",
       "                var nbb_formatted_code = \"newsgroups_train = fetch_20newsgroups(\\n    subset=\\\"train\\\", remove=(\\\"headers\\\", \\\"footers\\\", \\\"quotes\\\")\\n)\";\n",
       "                var nbb_cells = Jupyter.notebook.get_cells();\n",
       "                for (var i = 0; i < nbb_cells.length; ++i) {\n",
       "                    if (nbb_cells[i].input_prompt_number == nbb_cell_id) {\n",
       "                        if (nbb_cells[i].get_text() == nbb_unformatted_code) {\n",
       "                             nbb_cells[i].set_text(nbb_formatted_code);\n",
       "                        }\n",
       "                        break;\n",
       "                    }\n",
       "                }\n",
       "            }, 500);\n",
       "            "
      ],
      "text/plain": [
       "<IPython.core.display.Javascript object>"
      ]
     },
     "metadata": {},
     "output_type": "display_data"
    }
   ],
   "source": [
    "newsgroups_train = fetch_20newsgroups(\n",
    "    subset=\"train\", remove=(\"headers\", \"footers\", \"quotes\")\n",
    ")"
   ]
  },
  {
   "cell_type": "code",
   "execution_count": 3,
   "id": "380b7907",
   "metadata": {},
   "outputs": [
    {
     "data": {
      "application/javascript": [
       "\n",
       "            setTimeout(function() {\n",
       "                var nbb_cell_id = 3;\n",
       "                var nbb_unformatted_code = \"ng_df = pd.DataFrame(newsgroups_train.data, columns=[\\\"content\\\"])\\nng_df[\\\"target\\\"] = pd.Series(newsgroups_train.target, index=ng_df.index)\";\n",
       "                var nbb_formatted_code = \"ng_df = pd.DataFrame(newsgroups_train.data, columns=[\\\"content\\\"])\\nng_df[\\\"target\\\"] = pd.Series(newsgroups_train.target, index=ng_df.index)\";\n",
       "                var nbb_cells = Jupyter.notebook.get_cells();\n",
       "                for (var i = 0; i < nbb_cells.length; ++i) {\n",
       "                    if (nbb_cells[i].input_prompt_number == nbb_cell_id) {\n",
       "                        if (nbb_cells[i].get_text() == nbb_unformatted_code) {\n",
       "                             nbb_cells[i].set_text(nbb_formatted_code);\n",
       "                        }\n",
       "                        break;\n",
       "                    }\n",
       "                }\n",
       "            }, 500);\n",
       "            "
      ],
      "text/plain": [
       "<IPython.core.display.Javascript object>"
      ]
     },
     "metadata": {},
     "output_type": "display_data"
    }
   ],
   "source": [
    "ng_df = pd.DataFrame(newsgroups_train.data, columns=[\"content\"])\n",
    "ng_df[\"target\"] = pd.Series(newsgroups_train.target, index=ng_df.index)"
   ]
  },
  {
   "cell_type": "code",
   "execution_count": 4,
   "id": "44022b0b",
   "metadata": {},
   "outputs": [
    {
     "name": "stderr",
     "output_type": "stream",
     "text": [
      "All model checkpoint layers were used when initializing TFRobertaForSequenceClassification.\n",
      "\n",
      "All the layers of TFRobertaForSequenceClassification were initialized from the model checkpoint at roberta-large-mnli.\n",
      "If your task is similar to the task the model of the checkpoint was trained on, you can already use TFRobertaForSequenceClassification for predictions without further training.\n"
     ]
    },
    {
     "data": {
      "application/javascript": [
       "\n",
       "            setTimeout(function() {\n",
       "                var nbb_cell_id = 4;\n",
       "                var nbb_unformatted_code = \"# Load classifier\\nclassifier = pipeline(\\\"zero-shot-classification\\\", model=\\\"roberta-large-mnli\\\")\";\n",
       "                var nbb_formatted_code = \"# Load classifier\\nclassifier = pipeline(\\\"zero-shot-classification\\\", model=\\\"roberta-large-mnli\\\")\";\n",
       "                var nbb_cells = Jupyter.notebook.get_cells();\n",
       "                for (var i = 0; i < nbb_cells.length; ++i) {\n",
       "                    if (nbb_cells[i].input_prompt_number == nbb_cell_id) {\n",
       "                        if (nbb_cells[i].get_text() == nbb_unformatted_code) {\n",
       "                             nbb_cells[i].set_text(nbb_formatted_code);\n",
       "                        }\n",
       "                        break;\n",
       "                    }\n",
       "                }\n",
       "            }, 500);\n",
       "            "
      ],
      "text/plain": [
       "<IPython.core.display.Javascript object>"
      ]
     },
     "metadata": {},
     "output_type": "display_data"
    }
   ],
   "source": [
    "# Load classifier\n",
    "classifier = pipeline(\"zero-shot-classification\", model=\"roberta-large-mnli\")"
   ]
  },
  {
   "cell_type": "code",
   "execution_count": 5,
   "id": "a61de99f",
   "metadata": {},
   "outputs": [
    {
     "data": {
      "application/javascript": [
       "\n",
       "            setTimeout(function() {\n",
       "                var nbb_cell_id = 5;\n",
       "                var nbb_unformatted_code = \"categories = [\\n    \\\"atheism\\\",\\n    \\\"computer graphics\\\",\\n    \\\"microsoft windows\\\",\\n    \\\"pc hardware\\\",\\n    \\\"apple hardware\\\",\\n    \\\"x window system\\\",\\n    \\\"for sale\\\",\\n    \\\"autos\\\",\\n    \\\"motorcycles\\\",\\n    \\\"baseball\\\",\\n    \\\"hockey\\\",\\n    \\\"cryptography\\\",\\n    \\\"electronics\\\",\\n    \\\"medicine\\\",\\n    \\\"space\\\",\\n    \\\"christianity\\\",\\n    \\\"politics guns\\\",\\n    \\\"politics middle east\\\",\\n    \\\"politics\\\",\\n    \\\"religion\\\",\\n]\\ncontent_re = \\\"(\\\\\\\\n)|\\\\\\\\|(\\\\-{2,}.*)|(\\\\\\\\t)|[\\\\(\\\\)\\\\[\\\\]\\\\*\\\\@\\\\#\\\\/\\\\<\\\\>\\\\_\\\\-\\\\^\\\\{\\\\}]\\\"\\n\\ncat_simp_map = [\\n    \\\"religion\\\",\\n    \\\"computer hardware\\\",\\n    \\\"computer software\\\",\\n    \\\"computer hardware\\\",\\n    \\\"computer hardware\\\",\\n    \\\"computer software\\\",\\n    \\\"for sale\\\",\\n    \\\"cars\\\",\\n    \\\"motorcycles\\\",\\n    \\\"baseball\\\",\\n    \\\"hockey\\\",\\n    \\\"cryptography\\\",\\n    \\\"electronics\\\",\\n    \\\"medicine\\\",\\n    \\\"atronomy or outer space\\\",\\n    \\\"religion\\\",\\n    \\\"guns\\\",\\n    \\\"the middle east\\\",\\n    \\\"politics\\\",\\n    \\\"religion\\\",\\n]\";\n",
       "                var nbb_formatted_code = \"categories = [\\n    \\\"atheism\\\",\\n    \\\"computer graphics\\\",\\n    \\\"microsoft windows\\\",\\n    \\\"pc hardware\\\",\\n    \\\"apple hardware\\\",\\n    \\\"x window system\\\",\\n    \\\"for sale\\\",\\n    \\\"autos\\\",\\n    \\\"motorcycles\\\",\\n    \\\"baseball\\\",\\n    \\\"hockey\\\",\\n    \\\"cryptography\\\",\\n    \\\"electronics\\\",\\n    \\\"medicine\\\",\\n    \\\"space\\\",\\n    \\\"christianity\\\",\\n    \\\"politics guns\\\",\\n    \\\"politics middle east\\\",\\n    \\\"politics\\\",\\n    \\\"religion\\\",\\n]\\ncontent_re = \\\"(\\\\\\\\n)|\\\\\\\\|(\\\\-{2,}.*)|(\\\\\\\\t)|[\\\\(\\\\)\\\\[\\\\]\\\\*\\\\@\\\\#\\\\/\\\\<\\\\>\\\\_\\\\-\\\\^\\\\{\\\\}]\\\"\\n\\ncat_simp_map = [\\n    \\\"religion\\\",\\n    \\\"computer hardware\\\",\\n    \\\"computer software\\\",\\n    \\\"computer hardware\\\",\\n    \\\"computer hardware\\\",\\n    \\\"computer software\\\",\\n    \\\"for sale\\\",\\n    \\\"cars\\\",\\n    \\\"motorcycles\\\",\\n    \\\"baseball\\\",\\n    \\\"hockey\\\",\\n    \\\"cryptography\\\",\\n    \\\"electronics\\\",\\n    \\\"medicine\\\",\\n    \\\"atronomy or outer space\\\",\\n    \\\"religion\\\",\\n    \\\"guns\\\",\\n    \\\"the middle east\\\",\\n    \\\"politics\\\",\\n    \\\"religion\\\",\\n]\";\n",
       "                var nbb_cells = Jupyter.notebook.get_cells();\n",
       "                for (var i = 0; i < nbb_cells.length; ++i) {\n",
       "                    if (nbb_cells[i].input_prompt_number == nbb_cell_id) {\n",
       "                        if (nbb_cells[i].get_text() == nbb_unformatted_code) {\n",
       "                             nbb_cells[i].set_text(nbb_formatted_code);\n",
       "                        }\n",
       "                        break;\n",
       "                    }\n",
       "                }\n",
       "            }, 500);\n",
       "            "
      ],
      "text/plain": [
       "<IPython.core.display.Javascript object>"
      ]
     },
     "metadata": {},
     "output_type": "display_data"
    }
   ],
   "source": [
    "categories = [\n",
    "    \"atheism\",\n",
    "    \"computer graphics\",\n",
    "    \"microsoft windows\",\n",
    "    \"pc hardware\",\n",
    "    \"apple hardware\",\n",
    "    \"x window system\",\n",
    "    \"for sale\",\n",
    "    \"autos\",\n",
    "    \"motorcycles\",\n",
    "    \"baseball\",\n",
    "    \"hockey\",\n",
    "    \"cryptography\",\n",
    "    \"electronics\",\n",
    "    \"medicine\",\n",
    "    \"space\",\n",
    "    \"christianity\",\n",
    "    \"politics guns\",\n",
    "    \"politics middle east\",\n",
    "    \"politics\",\n",
    "    \"religion\",\n",
    "]\n",
    "content_re = \"(\\\\n)|\\\\|(\\-{2,}.*)|(\\\\t)|[\\(\\)\\[\\]\\*\\@\\#\\/\\<\\>\\_\\-\\^\\{\\}]\"\n",
    "\n",
    "cat_simp_map = [\n",
    "    \"religion\",\n",
    "    \"computer hardware\",\n",
    "    \"computer software\",\n",
    "    \"computer hardware\",\n",
    "    \"computer hardware\",\n",
    "    \"computer software\",\n",
    "    \"for sale\",\n",
    "    \"cars\",\n",
    "    \"motorcycles\",\n",
    "    \"baseball\",\n",
    "    \"hockey\",\n",
    "    \"cryptography\",\n",
    "    \"electronics\",\n",
    "    \"medicine\",\n",
    "    \"atronomy or outer space\",\n",
    "    \"religion\",\n",
    "    \"guns\",\n",
    "    \"the middle east\",\n",
    "    \"politics\",\n",
    "    \"religion\",\n",
    "]"
   ]
  },
  {
   "cell_type": "code",
   "execution_count": 6,
   "id": "fee59114",
   "metadata": {},
   "outputs": [
    {
     "data": {
      "application/javascript": [
       "\n",
       "            setTimeout(function() {\n",
       "                var nbb_cell_id = 6;\n",
       "                var nbb_unformatted_code = \"ng_df[\\\"content\\\"] = ng_df[\\\"content\\\"].apply(lambda x: re.sub(content_re, \\\" \\\", x)).apply(lambda x: re.sub(\\\"\\\\s{2,}\\\", \\\" \\\", x))\\nng_df[\\\"target\\\"] = ng_df[\\\"target\\\"].apply(lambda x: cat_simp_map[x])\\nng_df[\\\"con_len\\\"] = ng_df[\\\"content\\\"].apply(lambda x: len(x) if x != None else 0)\";\n",
       "                var nbb_formatted_code = \"ng_df[\\\"content\\\"] = (\\n    ng_df[\\\"content\\\"]\\n    .apply(lambda x: re.sub(content_re, \\\" \\\", x))\\n    .apply(lambda x: re.sub(\\\"\\\\s{2,}\\\", \\\" \\\", x))\\n)\\nng_df[\\\"target\\\"] = ng_df[\\\"target\\\"].apply(lambda x: cat_simp_map[x])\\nng_df[\\\"con_len\\\"] = ng_df[\\\"content\\\"].apply(lambda x: len(x) if x != None else 0)\";\n",
       "                var nbb_cells = Jupyter.notebook.get_cells();\n",
       "                for (var i = 0; i < nbb_cells.length; ++i) {\n",
       "                    if (nbb_cells[i].input_prompt_number == nbb_cell_id) {\n",
       "                        if (nbb_cells[i].get_text() == nbb_unformatted_code) {\n",
       "                             nbb_cells[i].set_text(nbb_formatted_code);\n",
       "                        }\n",
       "                        break;\n",
       "                    }\n",
       "                }\n",
       "            }, 500);\n",
       "            "
      ],
      "text/plain": [
       "<IPython.core.display.Javascript object>"
      ]
     },
     "metadata": {},
     "output_type": "display_data"
    }
   ],
   "source": [
    "ng_df[\"content\"] = (\n",
    "    ng_df[\"content\"]\n",
    "    .apply(lambda x: re.sub(content_re, \" \", x))\n",
    "    .apply(lambda x: re.sub(\"\\s{2,}\", \" \", x))\n",
    ")\n",
    "ng_df[\"target\"] = ng_df[\"target\"].apply(lambda x: cat_simp_map[x])\n",
    "ng_df[\"con_len\"] = ng_df[\"content\"].apply(lambda x: len(x) if x != None else 0)"
   ]
  },
  {
   "cell_type": "code",
   "execution_count": 8,
   "id": "92806f28",
   "metadata": {},
   "outputs": [
    {
     "data": {
      "application/javascript": [
       "\n",
       "            setTimeout(function() {\n",
       "                var nbb_cell_id = 8;\n",
       "                var nbb_unformatted_code = \"ng_df.to_pickle(\\\"C:/Users/rparg/Documents/Data/newsgroups/ng_super_cat.pkl\\\")\";\n",
       "                var nbb_formatted_code = \"ng_df.to_pickle(\\\"C:/Users/rparg/Documents/Data/newsgroups/ng_super_cat.pkl\\\")\";\n",
       "                var nbb_cells = Jupyter.notebook.get_cells();\n",
       "                for (var i = 0; i < nbb_cells.length; ++i) {\n",
       "                    if (nbb_cells[i].input_prompt_number == nbb_cell_id) {\n",
       "                        if (nbb_cells[i].get_text() == nbb_unformatted_code) {\n",
       "                             nbb_cells[i].set_text(nbb_formatted_code);\n",
       "                        }\n",
       "                        break;\n",
       "                    }\n",
       "                }\n",
       "            }, 500);\n",
       "            "
      ],
      "text/plain": [
       "<IPython.core.display.Javascript object>"
      ]
     },
     "metadata": {},
     "output_type": "display_data"
    }
   ],
   "source": [
    "ng_df.to_pickle(\"C:/Users/rparg/Documents/Data/newsgroups/ng_super_cat.pkl\")"
   ]
  },
  {
   "cell_type": "code",
   "execution_count": 9,
   "id": "0a6802e1",
   "metadata": {},
   "outputs": [
    {
     "data": {
      "application/javascript": [
       "\n",
       "            setTimeout(function() {\n",
       "                var nbb_cell_id = 9;\n",
       "                var nbb_unformatted_code = \"ng_df = pd.read_pickle(\\\"C:/Users/rparg/Documents/Data/newsgroups/ng_super_cat.pkl\\\")\";\n",
       "                var nbb_formatted_code = \"ng_df = pd.read_pickle(\\\"C:/Users/rparg/Documents/Data/newsgroups/ng_super_cat.pkl\\\")\";\n",
       "                var nbb_cells = Jupyter.notebook.get_cells();\n",
       "                for (var i = 0; i < nbb_cells.length; ++i) {\n",
       "                    if (nbb_cells[i].input_prompt_number == nbb_cell_id) {\n",
       "                        if (nbb_cells[i].get_text() == nbb_unformatted_code) {\n",
       "                             nbb_cells[i].set_text(nbb_formatted_code);\n",
       "                        }\n",
       "                        break;\n",
       "                    }\n",
       "                }\n",
       "            }, 500);\n",
       "            "
      ],
      "text/plain": [
       "<IPython.core.display.Javascript object>"
      ]
     },
     "metadata": {},
     "output_type": "display_data"
    }
   ],
   "source": [
    "ng_df = pd.read_pickle(\"C:/Users/rparg/Documents/Data/newsgroups/ng_super_cat.pkl\")"
   ]
  },
  {
   "cell_type": "code",
   "execution_count": 18,
   "id": "7b0a8a86",
   "metadata": {},
   "outputs": [
    {
     "data": {
      "application/javascript": [
       "\n",
       "            setTimeout(function() {\n",
       "                var nbb_cell_id = 18;\n",
       "                var nbb_unformatted_code = \"ng_sample_df = ng_df[(ng_df[\\\"con_len\\\"] > 100) & (ng_df[\\\"con_len\\\"] < 1000)]\\nng_sample_df = shuffle(\\n    ng_sample_df.groupby(\\\"target\\\")\\n    .apply(lambda x: x.sample(20, replace=True))\\n    .reset_index(drop=True).drop_duplicates()\\n)\\ncontent_list = list(ng_sample_df[\\\"content\\\"])\\ntarget_list = list(ng_df[\\\"target\\\"].unique())\\nng_sample_df.to_pickle(\\\"C:/Users/rparg/Documents/Data/newsgroups/ng_super_sample.pkl\\\")\";\n",
       "                var nbb_formatted_code = \"ng_sample_df = ng_df[(ng_df[\\\"con_len\\\"] > 100) & (ng_df[\\\"con_len\\\"] < 1000)]\\nng_sample_df = shuffle(\\n    ng_sample_df.groupby(\\\"target\\\")\\n    .apply(lambda x: x.sample(20, replace=True))\\n    .reset_index(drop=True)\\n    .drop_duplicates()\\n)\\ncontent_list = list(ng_sample_df[\\\"content\\\"])\\ntarget_list = list(ng_df[\\\"target\\\"].unique())\\nng_sample_df.to_pickle(\\\"C:/Users/rparg/Documents/Data/newsgroups/ng_super_sample.pkl\\\")\";\n",
       "                var nbb_cells = Jupyter.notebook.get_cells();\n",
       "                for (var i = 0; i < nbb_cells.length; ++i) {\n",
       "                    if (nbb_cells[i].input_prompt_number == nbb_cell_id) {\n",
       "                        if (nbb_cells[i].get_text() == nbb_unformatted_code) {\n",
       "                             nbb_cells[i].set_text(nbb_formatted_code);\n",
       "                        }\n",
       "                        break;\n",
       "                    }\n",
       "                }\n",
       "            }, 500);\n",
       "            "
      ],
      "text/plain": [
       "<IPython.core.display.Javascript object>"
      ]
     },
     "metadata": {},
     "output_type": "display_data"
    }
   ],
   "source": [
    "ng_sample_df = ng_df[(ng_df[\"con_len\"] > 100) & (ng_df[\"con_len\"] < 1000)]\n",
    "ng_sample_df = shuffle(\n",
    "    ng_sample_df.groupby(\"target\")\n",
    "    .apply(lambda x: x.sample(20, replace=True))\n",
    "    .reset_index(drop=True)\n",
    "    .drop_duplicates()\n",
    ")\n",
    "content_list = list(ng_sample_df[\"content\"])\n",
    "target_list = list(ng_df[\"target\"].unique())\n",
    "ng_sample_df.to_pickle(\"C:/Users/rparg/Documents/Data/newsgroups/ng_super_sample.pkl\")"
   ]
  },
  {
   "cell_type": "code",
   "execution_count": 72,
   "id": "65b26338",
   "metadata": {},
   "outputs": [
    {
     "data": {
      "application/javascript": [
       "\n",
       "            setTimeout(function() {\n",
       "                var nbb_cell_id = 72;\n",
       "                var nbb_unformatted_code = \"ng_sample_df = pd.read_pickle(\\n    \\\"C:/Users/rparg/Documents/Data/newsgroups/ng_sample_all2.pkl\\\"\\n)\\ncontent_list = list(ng_df[\\\"content\\\"])\";\n",
       "                var nbb_formatted_code = \"ng_sample_df = pd.read_pickle(\\n    \\\"C:/Users/rparg/Documents/Data/newsgroups/ng_sample_all2.pkl\\\"\\n)\\ncontent_list = list(ng_df[\\\"content\\\"])\";\n",
       "                var nbb_cells = Jupyter.notebook.get_cells();\n",
       "                for (var i = 0; i < nbb_cells.length; ++i) {\n",
       "                    if (nbb_cells[i].input_prompt_number == nbb_cell_id) {\n",
       "                        if (nbb_cells[i].get_text() == nbb_unformatted_code) {\n",
       "                             nbb_cells[i].set_text(nbb_formatted_code);\n",
       "                        }\n",
       "                        break;\n",
       "                    }\n",
       "                }\n",
       "            }, 500);\n",
       "            "
      ],
      "text/plain": [
       "<IPython.core.display.Javascript object>"
      ]
     },
     "metadata": {},
     "output_type": "display_data"
    }
   ],
   "source": [
    "ng_sample_df = pd.read_pickle(\n",
    "    \"C:/Users/rparg/Documents/Data/newsgroups/ng_super_sample.pkl\"\n",
    ")"
   ]
  },
  {
   "cell_type": "code",
   "execution_count": 23,
   "id": "0daf8642",
   "metadata": {},
   "outputs": [
    {
     "data": {
      "application/javascript": [
       "\n",
       "            setTimeout(function() {\n",
       "                var nbb_cell_id = 23;\n",
       "                var nbb_unformatted_code = \"class_list = [\\n    classifier(content, target_list, multi_label=True) for content in content_list\\n]\\nng_clfd_df = pd.DataFrame.from_records(class_list)\\nng_clfd_df[\\\"predicted\\\"] = ng_clfd_df[\\\"labels\\\"].apply(lambda x: x[0])\\nng_clfd_df[\\\"high_score\\\"] = ng_clfd_df[\\\"scores\\\"].apply(lambda x: x[0])\\nng_clfd_df = ng_clfd_df.rename(\\n    {\\\"sequence\\\": \\\"content\\\"},\\n    axis=1,\\n)\\nng_super_sample_clfd_df = ng_sample_df.merge(ng_clfd_df, how=\\\"inner\\\", on=\\\"content\\\")\\nng_super_sample_clfd_df.to_pickle(\\n    \\\"C:/Users/rparg/Documents/Data/newsgroups/ng_super_sample_clfd.pkl\\\"\\n)\";\n",
       "                var nbb_formatted_code = \"class_list = [\\n    classifier(content, target_list, multi_label=True) for content in content_list\\n]\\nng_clfd_df = pd.DataFrame.from_records(class_list)\\nng_clfd_df[\\\"predicted\\\"] = ng_clfd_df[\\\"labels\\\"].apply(lambda x: x[0])\\nng_clfd_df[\\\"high_score\\\"] = ng_clfd_df[\\\"scores\\\"].apply(lambda x: x[0])\\nng_clfd_df = ng_clfd_df.rename(\\n    {\\\"sequence\\\": \\\"content\\\"},\\n    axis=1,\\n)\\nng_super_sample_clfd_df = ng_sample_df.merge(ng_clfd_df, how=\\\"inner\\\", on=\\\"content\\\")\\nng_super_sample_clfd_df.to_pickle(\\n    \\\"C:/Users/rparg/Documents/Data/newsgroups/ng_super_sample_clfd.pkl\\\"\\n)\";\n",
       "                var nbb_cells = Jupyter.notebook.get_cells();\n",
       "                for (var i = 0; i < nbb_cells.length; ++i) {\n",
       "                    if (nbb_cells[i].input_prompt_number == nbb_cell_id) {\n",
       "                        if (nbb_cells[i].get_text() == nbb_unformatted_code) {\n",
       "                             nbb_cells[i].set_text(nbb_formatted_code);\n",
       "                        }\n",
       "                        break;\n",
       "                    }\n",
       "                }\n",
       "            }, 500);\n",
       "            "
      ],
      "text/plain": [
       "<IPython.core.display.Javascript object>"
      ]
     },
     "metadata": {},
     "output_type": "display_data"
    }
   ],
   "source": [
    "class_list = [\n",
    "    classifier(content, target_list, multi_label=True) for content in content_list\n",
    "]\n",
    "ng_clfd_df = pd.DataFrame.from_records(class_list)\n",
    "ng_clfd_df[\"predicted\"] = ng_clfd_df[\"labels\"].apply(lambda x: x[0])\n",
    "ng_clfd_df[\"high_score\"] = ng_clfd_df[\"scores\"].apply(lambda x: x[0])\n",
    "ng_clfd_df = ng_clfd_df.rename(\n",
    "    {\"sequence\": \"content\"},\n",
    "    axis=1,\n",
    ")\n",
    "ng_super_sample_clfd_df = ng_sample_df.merge(ng_clfd_df, how=\"inner\", on=\"content\")\n",
    "ng_super_sample_clfd_df.to_pickle(\n",
    "    \"C:/Users/rparg/Documents/Data/newsgroups/ng_super_sample_clfd.pkl\"\n",
    ")"
   ]
  },
  {
   "cell_type": "code",
   "execution_count": 22,
   "id": "de6e400b",
   "metadata": {},
   "outputs": [
    {
     "data": {
      "text/html": [
       "<div>\n",
       "<style scoped>\n",
       "    .dataframe tbody tr th:only-of-type {\n",
       "        vertical-align: middle;\n",
       "    }\n",
       "\n",
       "    .dataframe tbody tr th {\n",
       "        vertical-align: top;\n",
       "    }\n",
       "\n",
       "    .dataframe thead th {\n",
       "        text-align: right;\n",
       "    }\n",
       "</style>\n",
       "<table border=\"1\" class=\"dataframe\">\n",
       "  <thead>\n",
       "    <tr style=\"text-align: right;\">\n",
       "      <th></th>\n",
       "      <th>content</th>\n",
       "      <th>target</th>\n",
       "      <th>con_len</th>\n",
       "      <th>labels</th>\n",
       "      <th>scores</th>\n",
       "      <th>predicted</th>\n",
       "      <th>high_score</th>\n",
       "    </tr>\n",
       "  </thead>\n",
       "  <tbody>\n",
       "    <tr>\n",
       "      <th>0</th>\n",
       "      <td>Hi there, I can't seem to get mail to you. Can...</td>\n",
       "      <td>hockey</td>\n",
       "      <td>165</td>\n",
       "      <td>[the middle east, computer software, for sale,...</td>\n",
       "      <td>[0.2192583680152893, 0.18975695967674255, 0.15...</td>\n",
       "      <td>the middle east</td>\n",
       "      <td>0.219258</td>\n",
       "    </tr>\n",
       "    <tr>\n",
       "      <th>1</th>\n",
       "      <td>Yes, eXceed has windows version. Have ported ...</td>\n",
       "      <td>computer software</td>\n",
       "      <td>225</td>\n",
       "      <td>[computer software, for sale, cars, computer h...</td>\n",
       "      <td>[0.9744587540626526, 0.5807973742485046, 0.317...</td>\n",
       "      <td>computer software</td>\n",
       "      <td>0.974459</td>\n",
       "    </tr>\n",
       "  </tbody>\n",
       "</table>\n",
       "</div>"
      ],
      "text/plain": [
       "                                             content             target  \\\n",
       "0  Hi there, I can't seem to get mail to you. Can...             hockey   \n",
       "1   Yes, eXceed has windows version. Have ported ...  computer software   \n",
       "\n",
       "   con_len                                             labels  \\\n",
       "0      165  [the middle east, computer software, for sale,...   \n",
       "1      225  [computer software, for sale, cars, computer h...   \n",
       "\n",
       "                                              scores          predicted  \\\n",
       "0  [0.2192583680152893, 0.18975695967674255, 0.15...    the middle east   \n",
       "1  [0.9744587540626526, 0.5807973742485046, 0.317...  computer software   \n",
       "\n",
       "   high_score  \n",
       "0    0.219258  \n",
       "1    0.974459  "
      ]
     },
     "execution_count": 22,
     "metadata": {},
     "output_type": "execute_result"
    },
    {
     "data": {
      "application/javascript": [
       "\n",
       "            setTimeout(function() {\n",
       "                var nbb_cell_id = 22;\n",
       "                var nbb_unformatted_code = \"ng_super_sample_clfd_df\";\n",
       "                var nbb_formatted_code = \"ng_super_sample_clfd_df\";\n",
       "                var nbb_cells = Jupyter.notebook.get_cells();\n",
       "                for (var i = 0; i < nbb_cells.length; ++i) {\n",
       "                    if (nbb_cells[i].input_prompt_number == nbb_cell_id) {\n",
       "                        if (nbb_cells[i].get_text() == nbb_unformatted_code) {\n",
       "                             nbb_cells[i].set_text(nbb_formatted_code);\n",
       "                        }\n",
       "                        break;\n",
       "                    }\n",
       "                }\n",
       "            }, 500);\n",
       "            "
      ],
      "text/plain": [
       "<IPython.core.display.Javascript object>"
      ]
     },
     "metadata": {},
     "output_type": "display_data"
    }
   ],
   "source": [
    "ng_super_sample_clfd_df"
   ]
  },
  {
   "cell_type": "code",
   "execution_count": null,
   "id": "50bf0f91",
   "metadata": {},
   "outputs": [],
   "source": [
    "# Read results"
   ]
  },
  {
   "cell_type": "code",
   "execution_count": 24,
   "id": "92ba2804",
   "metadata": {},
   "outputs": [
    {
     "data": {
      "application/javascript": [
       "\n",
       "            setTimeout(function() {\n",
       "                var nbb_cell_id = 24;\n",
       "                var nbb_unformatted_code = \"results_df = pd.read_pickle(\\n    \\\"C:/Users/rparg/Documents/Data/newsgroups/ng_super_sample_clfd.pkl\\\"\\n)\";\n",
       "                var nbb_formatted_code = \"results_df = pd.read_pickle(\\n    \\\"C:/Users/rparg/Documents/Data/newsgroups/ng_super_sample_clfd.pkl\\\"\\n)\";\n",
       "                var nbb_cells = Jupyter.notebook.get_cells();\n",
       "                for (var i = 0; i < nbb_cells.length; ++i) {\n",
       "                    if (nbb_cells[i].input_prompt_number == nbb_cell_id) {\n",
       "                        if (nbb_cells[i].get_text() == nbb_unformatted_code) {\n",
       "                             nbb_cells[i].set_text(nbb_formatted_code);\n",
       "                        }\n",
       "                        break;\n",
       "                    }\n",
       "                }\n",
       "            }, 500);\n",
       "            "
      ],
      "text/plain": [
       "<IPython.core.display.Javascript object>"
      ]
     },
     "metadata": {},
     "output_type": "display_data"
    }
   ],
   "source": [
    "results_df = pd.read_pickle(\n",
    "    \"C:/Users/rparg/Documents/Data/newsgroups/ng_super_sample_clfd.pkl\"\n",
    ")"
   ]
  },
  {
   "cell_type": "code",
   "execution_count": 25,
   "id": "c4650a08",
   "metadata": {},
   "outputs": [
    {
     "data": {
      "text/html": [
       "<div>\n",
       "<style scoped>\n",
       "    .dataframe tbody tr th:only-of-type {\n",
       "        vertical-align: middle;\n",
       "    }\n",
       "\n",
       "    .dataframe tbody tr th {\n",
       "        vertical-align: top;\n",
       "    }\n",
       "\n",
       "    .dataframe thead th {\n",
       "        text-align: right;\n",
       "    }\n",
       "</style>\n",
       "<table border=\"1\" class=\"dataframe\">\n",
       "  <thead>\n",
       "    <tr style=\"text-align: right;\">\n",
       "      <th></th>\n",
       "      <th>content</th>\n",
       "      <th>target</th>\n",
       "      <th>con_len</th>\n",
       "      <th>labels</th>\n",
       "      <th>scores</th>\n",
       "      <th>predicted</th>\n",
       "      <th>high_score</th>\n",
       "    </tr>\n",
       "  </thead>\n",
       "  <tbody>\n",
       "    <tr>\n",
       "      <th>0</th>\n",
       "      <td>Hi there, I can't seem to get mail to you. Can...</td>\n",
       "      <td>hockey</td>\n",
       "      <td>165</td>\n",
       "      <td>[the middle east, computer software, for sale,...</td>\n",
       "      <td>[0.2192583680152893, 0.18975695967674255, 0.15...</td>\n",
       "      <td>the middle east</td>\n",
       "      <td>0.219258</td>\n",
       "    </tr>\n",
       "    <tr>\n",
       "      <th>1</th>\n",
       "      <td>Yes, eXceed has windows version. Have ported ...</td>\n",
       "      <td>computer software</td>\n",
       "      <td>225</td>\n",
       "      <td>[computer software, for sale, cars, computer h...</td>\n",
       "      <td>[0.9744587540626526, 0.5807973742485046, 0.317...</td>\n",
       "      <td>computer software</td>\n",
       "      <td>0.974459</td>\n",
       "    </tr>\n",
       "    <tr>\n",
       "      <th>2</th>\n",
       "      <td>Yea, it turned out that Gramm Rudman was a sh...</td>\n",
       "      <td>politics</td>\n",
       "      <td>644</td>\n",
       "      <td>[politics, cryptography, electronics, for sale...</td>\n",
       "      <td>[0.7696904540061951, 0.45533066987991333, 0.29...</td>\n",
       "      <td>politics</td>\n",
       "      <td>0.769690</td>\n",
       "    </tr>\n",
       "    <tr>\n",
       "      <th>3</th>\n",
       "      <td>Mr. Bettman The Guy in the Wrong Sport Mr. St...</td>\n",
       "      <td>hockey</td>\n",
       "      <td>804</td>\n",
       "      <td>[cryptography, hockey, baseball, for sale, gun...</td>\n",
       "      <td>[0.6338838338851929, 0.5783821940422058, 0.292...</td>\n",
       "      <td>cryptography</td>\n",
       "      <td>0.633884</td>\n",
       "    </tr>\n",
       "    <tr>\n",
       "      <th>4</th>\n",
       "      <td>Even if it were a capital offense, the warran...</td>\n",
       "      <td>guns</td>\n",
       "      <td>249</td>\n",
       "      <td>[guns, the middle east, for sale, motorcycles,...</td>\n",
       "      <td>[0.7006071209907532, 0.05453383922576904, 0.02...</td>\n",
       "      <td>guns</td>\n",
       "      <td>0.700607</td>\n",
       "    </tr>\n",
       "    <tr>\n",
       "      <th>...</th>\n",
       "      <td>...</td>\n",
       "      <td>...</td>\n",
       "      <td>...</td>\n",
       "      <td>...</td>\n",
       "      <td>...</td>\n",
       "      <td>...</td>\n",
       "      <td>...</td>\n",
       "    </tr>\n",
       "    <tr>\n",
       "      <th>289</th>\n",
       "      <td>I thought it was: \"There are two kinds of peo...</td>\n",
       "      <td>motorcycles</td>\n",
       "      <td>403</td>\n",
       "      <td>[for sale, politics, motorcycles, computer sof...</td>\n",
       "      <td>[0.41137853264808655, 0.050613436847925186, 0....</td>\n",
       "      <td>for sale</td>\n",
       "      <td>0.411379</td>\n",
       "    </tr>\n",
       "    <tr>\n",
       "      <th>290</th>\n",
       "      <td>Now, that Clinton can get e mail, i'm wonderin...</td>\n",
       "      <td>politics</td>\n",
       "      <td>245</td>\n",
       "      <td>[politics, computer software, electronics, the...</td>\n",
       "      <td>[0.7683619856834412, 0.4160480499267578, 0.228...</td>\n",
       "      <td>politics</td>\n",
       "      <td>0.768362</td>\n",
       "    </tr>\n",
       "    <tr>\n",
       "      <th>291</th>\n",
       "      <td>The dead giveaway is the repeated protestation...</td>\n",
       "      <td>cryptography</td>\n",
       "      <td>359</td>\n",
       "      <td>[guns, politics, for sale, the middle east, cr...</td>\n",
       "      <td>[0.8275811076164246, 0.7038613557815552, 0.241...</td>\n",
       "      <td>guns</td>\n",
       "      <td>0.827581</td>\n",
       "    </tr>\n",
       "    <tr>\n",
       "      <th>292</th>\n",
       "      <td>Is there anyone out there in NetLand that has ...</td>\n",
       "      <td>cars</td>\n",
       "      <td>386</td>\n",
       "      <td>[computer hardware, computer software, electro...</td>\n",
       "      <td>[0.6945748329162598, 0.6837870478630066, 0.436...</td>\n",
       "      <td>computer hardware</td>\n",
       "      <td>0.694575</td>\n",
       "    </tr>\n",
       "    <tr>\n",
       "      <th>293</th>\n",
       "      <td>Notwithstanding all the legitimate fuss about ...</td>\n",
       "      <td>cryptography</td>\n",
       "      <td>971</td>\n",
       "      <td>[for sale, cryptography, politics, electronics...</td>\n",
       "      <td>[0.9052162170410156, 0.8364402651786804, 0.378...</td>\n",
       "      <td>for sale</td>\n",
       "      <td>0.905216</td>\n",
       "    </tr>\n",
       "  </tbody>\n",
       "</table>\n",
       "<p>294 rows × 7 columns</p>\n",
       "</div>"
      ],
      "text/plain": [
       "                                               content             target  \\\n",
       "0    Hi there, I can't seem to get mail to you. Can...             hockey   \n",
       "1     Yes, eXceed has windows version. Have ported ...  computer software   \n",
       "2     Yea, it turned out that Gramm Rudman was a sh...           politics   \n",
       "3     Mr. Bettman The Guy in the Wrong Sport Mr. St...             hockey   \n",
       "4     Even if it were a capital offense, the warran...               guns   \n",
       "..                                                 ...                ...   \n",
       "289   I thought it was: \"There are two kinds of peo...        motorcycles   \n",
       "290  Now, that Clinton can get e mail, i'm wonderin...           politics   \n",
       "291  The dead giveaway is the repeated protestation...       cryptography   \n",
       "292  Is there anyone out there in NetLand that has ...               cars   \n",
       "293  Notwithstanding all the legitimate fuss about ...       cryptography   \n",
       "\n",
       "     con_len                                             labels  \\\n",
       "0        165  [the middle east, computer software, for sale,...   \n",
       "1        225  [computer software, for sale, cars, computer h...   \n",
       "2        644  [politics, cryptography, electronics, for sale...   \n",
       "3        804  [cryptography, hockey, baseball, for sale, gun...   \n",
       "4        249  [guns, the middle east, for sale, motorcycles,...   \n",
       "..       ...                                                ...   \n",
       "289      403  [for sale, politics, motorcycles, computer sof...   \n",
       "290      245  [politics, computer software, electronics, the...   \n",
       "291      359  [guns, politics, for sale, the middle east, cr...   \n",
       "292      386  [computer hardware, computer software, electro...   \n",
       "293      971  [for sale, cryptography, politics, electronics...   \n",
       "\n",
       "                                                scores          predicted  \\\n",
       "0    [0.2192583680152893, 0.18975695967674255, 0.15...    the middle east   \n",
       "1    [0.9744587540626526, 0.5807973742485046, 0.317...  computer software   \n",
       "2    [0.7696904540061951, 0.45533066987991333, 0.29...           politics   \n",
       "3    [0.6338838338851929, 0.5783821940422058, 0.292...       cryptography   \n",
       "4    [0.7006071209907532, 0.05453383922576904, 0.02...               guns   \n",
       "..                                                 ...                ...   \n",
       "289  [0.41137853264808655, 0.050613436847925186, 0....           for sale   \n",
       "290  [0.7683619856834412, 0.4160480499267578, 0.228...           politics   \n",
       "291  [0.8275811076164246, 0.7038613557815552, 0.241...               guns   \n",
       "292  [0.6945748329162598, 0.6837870478630066, 0.436...  computer hardware   \n",
       "293  [0.9052162170410156, 0.8364402651786804, 0.378...           for sale   \n",
       "\n",
       "     high_score  \n",
       "0      0.219258  \n",
       "1      0.974459  \n",
       "2      0.769690  \n",
       "3      0.633884  \n",
       "4      0.700607  \n",
       "..          ...  \n",
       "289    0.411379  \n",
       "290    0.768362  \n",
       "291    0.827581  \n",
       "292    0.694575  \n",
       "293    0.905216  \n",
       "\n",
       "[294 rows x 7 columns]"
      ]
     },
     "execution_count": 25,
     "metadata": {},
     "output_type": "execute_result"
    },
    {
     "data": {
      "application/javascript": [
       "\n",
       "            setTimeout(function() {\n",
       "                var nbb_cell_id = 25;\n",
       "                var nbb_unformatted_code = \"results_df\";\n",
       "                var nbb_formatted_code = \"results_df\";\n",
       "                var nbb_cells = Jupyter.notebook.get_cells();\n",
       "                for (var i = 0; i < nbb_cells.length; ++i) {\n",
       "                    if (nbb_cells[i].input_prompt_number == nbb_cell_id) {\n",
       "                        if (nbb_cells[i].get_text() == nbb_unformatted_code) {\n",
       "                             nbb_cells[i].set_text(nbb_formatted_code);\n",
       "                        }\n",
       "                        break;\n",
       "                    }\n",
       "                }\n",
       "            }, 500);\n",
       "            "
      ],
      "text/plain": [
       "<IPython.core.display.Javascript object>"
      ]
     },
     "metadata": {},
     "output_type": "display_data"
    }
   ],
   "source": [
    "results_df"
   ]
  },
  {
   "cell_type": "code",
   "execution_count": 26,
   "id": "8048fbd2",
   "metadata": {},
   "outputs": [
    {
     "name": "stdout",
     "output_type": "stream",
     "text": [
      "                         precision    recall  f1-score   support\n",
      "\n",
      "atronomy or outer space       1.00      0.40      0.57        20\n",
      "               baseball       0.92      0.60      0.73        20\n",
      "                   cars       0.57      0.60      0.59        20\n",
      "      computer hardware       0.45      0.50      0.48        20\n",
      "      computer software       0.52      0.84      0.64        19\n",
      "           cryptography       0.16      0.25      0.19        20\n",
      "            electronics       0.40      0.30      0.34        20\n",
      "               for sale       0.34      0.84      0.48        19\n",
      "                   guns       0.60      0.47      0.53        19\n",
      "                 hockey       0.92      0.55      0.69        20\n",
      "               medicine       1.00      0.47      0.64        19\n",
      "            motorcycles       0.47      0.35      0.40        20\n",
      "               politics       0.36      0.40      0.38        20\n",
      "               religion       0.71      0.53      0.61        19\n",
      "        the middle east       0.61      0.58      0.59        19\n",
      "\n",
      "               accuracy                           0.51       294\n",
      "              macro avg       0.60      0.51      0.52       294\n",
      "           weighted avg       0.60      0.51      0.52       294\n",
      "\n"
     ]
    },
    {
     "data": {
      "application/javascript": [
       "\n",
       "            setTimeout(function() {\n",
       "                var nbb_cell_id = 26;\n",
       "                var nbb_unformatted_code = \"y_target = np.array(results_df[\\\"target\\\"])\\ny_pred = np.array(results_df[\\\"predicted\\\"])\\n\\ncm = sklearn.metrics.confusion_matrix(y_target, y_pred)\\ncmn = ((cm.astype(\\\"float\\\") / cm.sum(axis=1)[:, np.newaxis])).round(decimals=3)\\n\\nprint(\\n    sklearn.metrics.classification_report(\\n        y_true=y_target,\\n        y_pred=y_pred,\\n        zero_division=1,\\n    )\\n)\";\n",
       "                var nbb_formatted_code = \"y_target = np.array(results_df[\\\"target\\\"])\\ny_pred = np.array(results_df[\\\"predicted\\\"])\\n\\ncm = sklearn.metrics.confusion_matrix(y_target, y_pred)\\ncmn = ((cm.astype(\\\"float\\\") / cm.sum(axis=1)[:, np.newaxis])).round(decimals=3)\\n\\nprint(\\n    sklearn.metrics.classification_report(\\n        y_true=y_target,\\n        y_pred=y_pred,\\n        zero_division=1,\\n    )\\n)\";\n",
       "                var nbb_cells = Jupyter.notebook.get_cells();\n",
       "                for (var i = 0; i < nbb_cells.length; ++i) {\n",
       "                    if (nbb_cells[i].input_prompt_number == nbb_cell_id) {\n",
       "                        if (nbb_cells[i].get_text() == nbb_unformatted_code) {\n",
       "                             nbb_cells[i].set_text(nbb_formatted_code);\n",
       "                        }\n",
       "                        break;\n",
       "                    }\n",
       "                }\n",
       "            }, 500);\n",
       "            "
      ],
      "text/plain": [
       "<IPython.core.display.Javascript object>"
      ]
     },
     "metadata": {},
     "output_type": "display_data"
    }
   ],
   "source": [
    "y_target = np.array(results_df[\"target\"])\n",
    "y_pred = np.array(results_df[\"predicted\"])\n",
    "\n",
    "cm = sklearn.metrics.confusion_matrix(y_target, y_pred)\n",
    "cmn = ((cm.astype(\"float\") / cm.sum(axis=1)[:, np.newaxis])).round(decimals=3)\n",
    "\n",
    "print(\n",
    "    sklearn.metrics.classification_report(\n",
    "        y_true=y_target,\n",
    "        y_pred=y_pred,\n",
    "        zero_division=1,\n",
    "    )\n",
    ")"
   ]
  },
  {
   "cell_type": "code",
   "execution_count": 27,
   "id": "a8767196",
   "metadata": {},
   "outputs": [
    {
     "data": {
      "image/png": "[encoded data removed]",
      "text/plain": [
       "<Figure size 1200x900 with 2 Axes>"
      ]
     },
     "metadata": {},
     "output_type": "display_data"
    },
    {
     "data": {
      "application/javascript": [
       "\n",
       "            setTimeout(function() {\n",
       "                var nbb_cell_id = 27;\n",
       "                var nbb_unformatted_code = \"f, ax = plt.subplots(figsize=(12, 9))\\nsns.heatmap(\\n    cmn,\\n    ax=ax,\\n    annot=True,\\n    fmt=\\\".01f\\\",\\n    xticklabels=np.unique(y_target),\\n    yticklabels=np.unique(y_pred),\\n)\\nplt.ylabel(\\\"Actual\\\")\\nplt.xlabel(\\\"Predicted\\\")\\nplt.show(block=False)\\nplt.show()\";\n",
       "                var nbb_formatted_code = \"f, ax = plt.subplots(figsize=(12, 9))\\nsns.heatmap(\\n    cmn,\\n    ax=ax,\\n    annot=True,\\n    fmt=\\\".01f\\\",\\n    xticklabels=np.unique(y_target),\\n    yticklabels=np.unique(y_pred),\\n)\\nplt.ylabel(\\\"Actual\\\")\\nplt.xlabel(\\\"Predicted\\\")\\nplt.show(block=False)\\nplt.show()\";\n",
       "                var nbb_cells = Jupyter.notebook.get_cells();\n",
       "                for (var i = 0; i < nbb_cells.length; ++i) {\n",
       "                    if (nbb_cells[i].input_prompt_number == nbb_cell_id) {\n",
       "                        if (nbb_cells[i].get_text() == nbb_unformatted_code) {\n",
       "                             nbb_cells[i].set_text(nbb_formatted_code);\n",
       "                        }\n",
       "                        break;\n",
       "                    }\n",
       "                }\n",
       "            }, 500);\n",
       "            "
      ],
      "text/plain": [
       "<IPython.core.display.Javascript object>"
      ]
     },
     "metadata": {},
     "output_type": "display_data"
    }
   ],
   "source": [
    "f, ax = plt.subplots(figsize=(12, 9))\n",
    "sns.heatmap(\n",
    "    cmn,\n",
    "    ax=ax,\n",
    "    annot=True,\n",
    "    fmt=\".01f\",\n",
    "    xticklabels=np.unique(y_target),\n",
    "    yticklabels=np.unique(y_pred),\n",
    ")\n",
    "plt.ylabel(\"Actual\")\n",
    "plt.xlabel(\"Predicted\")\n",
    "plt.show(block=False)\n",
    "plt.show()"
   ]
  },
  {
   "cell_type": "code",
   "execution_count": 60,
   "id": "38fd78e5",
   "metadata": {
    "scrolled": true
   },
   "outputs": [
    {
     "data": {
      "text/plain": [
       "[\"        This isn't inherently bad.  This isn't really light pollution since it will only be visible shortly before or after dusk  or during the day .   Of course, if night only lasts 2 hours for you, you're probably going to be inconvienenced. But you're inconvienenced anyway in that case .  Finally: this isn't the Bronze Age, and most of us aren't Indo European; those people speaking Indo-Eurpoean languages often have much non-indo-european ancestry and cultural background. So: please try to remember that there are more human activities than those practiced by the Warrior Caste, the Farming Caste, and the Priesthood.  And why act distressed that someone's found a way to do research that doesn't involve socialism?  It certianly doesn't mean we deserve to die.\",\n",
       " \"   They have a few problems. The biggest technical problem is the need to find two satellites going to the same rough orbit for a luanch.  They also don't show much interest in commercial launches. There is more money to be made churning out Titan IV's for the government. After all, it isn't every day you find a sucker, er, customer who thinks paying three times the commercial rate for launch services is a good idea!    Allen \",\n",
       " 'As for SF and advertising in space. There is a romantic episode in Mead\\'s \"The Big Ball of Wax\" where the lovers are watching  the constellation Pepsi Cola rising over the horizon and noting the some \\'stars\\' had slipped cause the Teamsters were on strike.  This was the inspiration for my article on orbiting a formation of space mirrors published in Spaceflight in 1986. As the reviews but is it aesthetically desirable?  These days the only aesthetics that count are the ones you can count!',\n",
       " 'Hi Folks not exactly certain if this is the best place to ask, but I am searching for a summer internship in engineering.  I will be graduating in early  May with a B.S. in aerospace engineering and then pursuing my Masters this Fall .Does anyone know of anything that is available, I am in the process of applyi ng to some of the larger companies  ie. MacDac, Martin Marietta, Lockheed.  If a nyone knows of anything I would appreciate it if you could mail it to me.  Thanks in advance',\n",
       " '   The name is rather descriptive.  It\\'s a command to the spacecraft that tells it \"If you don\\'t hear from Earth after 264 hours, assume something is wrong with your  the spacecraft  attitude, and go into a preprogrammed search mode in an attempt to reacquire the signal from Earth.\"',\n",
       " \"                                                                    Wow! I knew Uranus is a long way off, but I didn't think it was THAT far away! \",\n",
       " \"There is the Army Ballistic Missile Defense Organization.  They were the precursors to SDIO.  and still exist under that umbrella.  Army Signal Corp's  and DCA  defense Comm Agency oops  DISA, they just changed names  do space work.  that's the point of all those defense comm sats.  \",\n",
       " ' Well Henry, we are often reminded how CANADA is not a part of the United States  yet .  You could have quite a commercial A-SAT, er sky-cleaning service going in a few years.   \"Toronto SkySweepers:  Clear skies in 48 hours, or your money back.\"     Discount rates available for astro-researchers.   ',\n",
       " '   Punchline  3: it would be a good idea just to leave them there.  -Tommy Mac ------------------------------------------------------------------------- Tom McWilliams 517-355-2178 wk   \\\\\\\\ As the radius of vision increases, 18084tm ibm.cl.msu.edu 336-9591 hm \\\\\\\\ the circumference of mystery grows.',\n",
       " 'prb access.digex.com  Pat  Pontificated:  What I was getting at in my post is whether or not it might be possible to put enough brains on board future deep-space probes for them to automatically avoid such things as looking at the sun or going into an uncontrolled tumble.    I heard once that the voyagers had a failsafe routine built in that essentially says \"If you never hear from Earth again, here\\'s what to do.\"  This was a back up in the event a receiver burnt out but the probe could still send data  limited, but still some data .    Since this would be a shutdown that may never be refunded for startup, if some type of cosmic BEM took out the probe, it might not be such a big loss.  Obviously you can\\'t plan for everything, but the most obvious things can be considered. ',\n",
       " \"Is anybody out there willing to discuss with me careers in the Army that deal with space?  After I graduate, I will have a commitment to serve in the Army,  and I would like to spend it in a space-related field.  I saw a post a long time ago about the Air Force Space Command which made a fleeting reference to its Army counter-part.  Any more info on that would be appreciated.  I'm  looking for things like: do I branch Intelligence, or Signal, or other?  To whom do I voice my interest in space?  What qualifications are necessary? Etc, etc.  BTW, my major is computer science engineering.  Please reply to ktj reef.cis.ufl.edu\",\n",
       " ' Things could be worse. A lot worse! In the mid-eighties the teen adult sci-fi comic 2000AD  Fleetway  produced a short story featuring the award winning character \"Judge Dredd\". The story focussed on an advertising agency of the future who use high powered multi-coloured lasers search lights pointed at the moon to paint images on the moon. Needless to say, this use hacked off a load of lovers, romantics and werewolfs crazies. The ad guys got chopped, the service discontinued. A cautionary tale indeed!  Marvin Batty.',\n",
       " \" A cash award is OK. A time limit would be nice. You can't give away mining rights  assuming there's anything to mine  because you don't own them.  -----------------------------------------------------------------  .sig files are like strings ... every yo-yo's got one.\",\n",
       " \" I've seen a film of it, my memory may be faulty, but as I remember it the vehicle was slightly over a meter long, with a thick baseplate 30-40 cm in diameter. I think the narrative said it was propelled by dynamite sticks. There were four detonations within about 2 s, the second coming after about 2 m of flight in. Max altitude seemed to be on the order of 50 m, but that is hard  to judge.\",\n",
       " ' Glad to see Griffin is spending his time on engineering rather than on ritual purification of the language.  Pity he got stuck with the turkey rather than one of the sensible options.',\n",
       " 'Can someone please remind me who said a well known quotation?   He was sitting atop a rocket awaiting liftoff and afterwards, in answer to the question what he had been thinking about, said  approximately  \"half a million components, each has to work perfectly, each supplied by the lowest bidder.....\"   Attribution and correction of the quote would be much appreciated. ',\n",
       " \"  It's my understanding that the freezing will start to occur because of the growing distance of Pluto and Charon from the Sun, due to it's elliptical orbit. It is not due to shadowing effects.    Pluto can shadow Charon, and vice-versa.  George Krumins -- \",\n",
       " 'What in blazes is going on with Wayne Matson and gang down in Alabama?  I also heard an unconfirmed rumor that Aerospace Ambassadors have disappeared.  Can anyone else confirm??',\n",
       " \"INteresting question about Galileo.  Galileo's HGA  is stuck.     The HGA was left closed,  because galileo  had a venus flyby.  If the HGA were pointed att he sun,  near venus,  it would cook the foci elements.  question:  WHy couldn't Galileo's  course manuevers have been designed such that the HGA  did not ever do a sun point.?  After all,  it would normally be aimed at earth anyway?  or would it be that an emergency situation i.e. spacecraft safing and seek might have caused an HGA sun point?\",\n",
       " ' The Apollo fire was harsh, A Saturn V explosion would have been hurtful but The Soviets winning would have been crushing. That could have been  the  technological turning point for the US turning us from Today\\'s \"We can do anything, we\\'re  the  Super Power\" to a much more reserved attitude like the Soviet Program today.  Kennedy was gone by 68\\\\69, the war was still on is the east, I think the program would have stalled badly and the goal of the moon by 70 would have been dead with Nasa trying to figure were they went wrong.    I speulate that: +The Saturn program would have been pushed into the 70s with cost over runs that would just be too evil.  Nixon still wins. +The Shuttle was never proposed and Skylab never built. +By 73 the program stalled yet again under the fuel crisis. +A string of small launches mark the mid seventies. +By 76 the goal of a US man on the moon is dead and the US space program drifts till the present day. ']"
      ]
     },
     "execution_count": 60,
     "metadata": {},
     "output_type": "execute_result"
    },
    {
     "data": {
      "application/javascript": [
       "\n",
       "            setTimeout(function() {\n",
       "                var nbb_cell_id = 60;\n",
       "                var nbb_unformatted_code = \"results_df[results_df[\\\"target\\\"] == \\\"space\\\"][\\\"content\\\"].values.tolist()\";\n",
       "                var nbb_formatted_code = \"results_df[results_df[\\\"target\\\"] == \\\"space\\\"][\\\"content\\\"].values.tolist()\";\n",
       "                var nbb_cells = Jupyter.notebook.get_cells();\n",
       "                for (var i = 0; i < nbb_cells.length; ++i) {\n",
       "                    if (nbb_cells[i].input_prompt_number == nbb_cell_id) {\n",
       "                        if (nbb_cells[i].get_text() == nbb_unformatted_code) {\n",
       "                             nbb_cells[i].set_text(nbb_formatted_code);\n",
       "                        }\n",
       "                        break;\n",
       "                    }\n",
       "                }\n",
       "            }, 500);\n",
       "            "
      ],
      "text/plain": [
       "<IPython.core.display.Javascript object>"
      ]
     },
     "metadata": {},
     "output_type": "display_data"
    }
   ],
   "source": [
    "results_df[results_df[\"target\"] == \"space\"][\"content\"].values.tolist()"
   ]
  },
  {
   "cell_type": "code",
   "execution_count": 40,
   "id": "ce990744",
   "metadata": {},
   "outputs": [
    {
     "data": {
      "text/html": [
       "<div>\n",
       "<style scoped>\n",
       "    .dataframe tbody tr th:only-of-type {\n",
       "        vertical-align: middle;\n",
       "    }\n",
       "\n",
       "    .dataframe tbody tr th {\n",
       "        vertical-align: top;\n",
       "    }\n",
       "\n",
       "    .dataframe thead th {\n",
       "        text-align: right;\n",
       "    }\n",
       "</style>\n",
       "<table border=\"1\" class=\"dataframe\">\n",
       "  <thead>\n",
       "    <tr style=\"text-align: right;\">\n",
       "      <th></th>\n",
       "      <th>content</th>\n",
       "      <th>target</th>\n",
       "      <th>con_len</th>\n",
       "      <th>predicted</th>\n",
       "      <th>score</th>\n",
       "    </tr>\n",
       "  </thead>\n",
       "  <tbody>\n",
       "    <tr>\n",
       "      <th>35</th>\n",
       "      <td>:  :   Nut or not, he was clearly a liar.  He ...</td>\n",
       "      <td>religion</td>\n",
       "      <td>209</td>\n",
       "      <td>politics</td>\n",
       "      <td>0.840676</td>\n",
       "    </tr>\n",
       "    <tr>\n",
       "      <th>45</th>\n",
       "      <td>Dennis, I'm astounded. I didn't know you were...</td>\n",
       "      <td>religion</td>\n",
       "      <td>126</td>\n",
       "      <td>for sale</td>\n",
       "      <td>0.190846</td>\n",
       "    </tr>\n",
       "    <tr>\n",
       "      <th>47</th>\n",
       "      <td>John Berryhill, Ph.D. writes   umm, please don...</td>\n",
       "      <td>religion</td>\n",
       "      <td>207</td>\n",
       "      <td>christianity</td>\n",
       "      <td>0.377686</td>\n",
       "    </tr>\n",
       "    <tr>\n",
       "      <th>62</th>\n",
       "      <td>Yes, this is certainly one of the traditiona...</td>\n",
       "      <td>religion</td>\n",
       "      <td>536</td>\n",
       "      <td>for sale</td>\n",
       "      <td>0.547040</td>\n",
       "    </tr>\n",
       "    <tr>\n",
       "      <th>85</th>\n",
       "      <td>Christian anti-Semitism comes from the obviou...</td>\n",
       "      <td>religion</td>\n",
       "      <td>209</td>\n",
       "      <td>religion</td>\n",
       "      <td>0.704521</td>\n",
       "    </tr>\n",
       "    <tr>\n",
       "      <th>95</th>\n",
       "      <td>I suppose these illegal guns have been found?...</td>\n",
       "      <td>religion</td>\n",
       "      <td>117</td>\n",
       "      <td>guns</td>\n",
       "      <td>0.995975</td>\n",
       "    </tr>\n",
       "    <tr>\n",
       "      <th>115</th>\n",
       "      <td>Mr. Clinton said today that the horrible trage...</td>\n",
       "      <td>religion</td>\n",
       "      <td>403</td>\n",
       "      <td>christianity</td>\n",
       "      <td>0.995211</td>\n",
       "    </tr>\n",
       "    <tr>\n",
       "      <th>148</th>\n",
       "      <td>You could argue that if you wanted, but I thin...</td>\n",
       "      <td>religion</td>\n",
       "      <td>585</td>\n",
       "      <td>religion</td>\n",
       "      <td>0.735926</td>\n",
       "    </tr>\n",
       "    <tr>\n",
       "      <th>169</th>\n",
       "      <td>Sorry, the San Jose based Rosicrucian order is...</td>\n",
       "      <td>religion</td>\n",
       "      <td>470</td>\n",
       "      <td>religion</td>\n",
       "      <td>0.828335</td>\n",
       "    </tr>\n",
       "    <tr>\n",
       "      <th>176</th>\n",
       "      <td>Speaking as one who knows relativity and qua...</td>\n",
       "      <td>religion</td>\n",
       "      <td>252</td>\n",
       "      <td>politics</td>\n",
       "      <td>0.139541</td>\n",
       "    </tr>\n",
       "    <tr>\n",
       "      <th>192</th>\n",
       "      <td>How do you know? Were you there?  While obvi...</td>\n",
       "      <td>religion</td>\n",
       "      <td>781</td>\n",
       "      <td>cryptography</td>\n",
       "      <td>0.820867</td>\n",
       "    </tr>\n",
       "    <tr>\n",
       "      <th>233</th>\n",
       "      <td>Huh, if ignorance is strength, then I won't...</td>\n",
       "      <td>religion</td>\n",
       "      <td>153</td>\n",
       "      <td>the middle east</td>\n",
       "      <td>0.347179</td>\n",
       "    </tr>\n",
       "    <tr>\n",
       "      <th>241</th>\n",
       "      <td>...   Nearly all of them.  Witness LA   Fireme...</td>\n",
       "      <td>religion</td>\n",
       "      <td>810</td>\n",
       "      <td>guns</td>\n",
       "      <td>0.923688</td>\n",
       "    </tr>\n",
       "    <tr>\n",
       "      <th>267</th>\n",
       "      <td>To: margoli watson.ibm.com  Larry Margolis  Fr...</td>\n",
       "      <td>religion</td>\n",
       "      <td>554</td>\n",
       "      <td>for sale</td>\n",
       "      <td>0.440816</td>\n",
       "    </tr>\n",
       "    <tr>\n",
       "      <th>275</th>\n",
       "      <td>MUNCH!   It would be funny if it wasn't so da...</td>\n",
       "      <td>religion</td>\n",
       "      <td>180</td>\n",
       "      <td>politics</td>\n",
       "      <td>0.911157</td>\n",
       "    </tr>\n",
       "    <tr>\n",
       "      <th>332</th>\n",
       "      <td>I assume you have evidence that he was respon...</td>\n",
       "      <td>religion</td>\n",
       "      <td>835</td>\n",
       "      <td>religion</td>\n",
       "      <td>0.814618</td>\n",
       "    </tr>\n",
       "    <tr>\n",
       "      <th>333</th>\n",
       "      <td>Is there evidence independent of the FBI that ...</td>\n",
       "      <td>religion</td>\n",
       "      <td>315</td>\n",
       "      <td>religion</td>\n",
       "      <td>0.921552</td>\n",
       "    </tr>\n",
       "    <tr>\n",
       "      <th>380</th>\n",
       "      <td>... or consider the thousands in Central Amer...</td>\n",
       "      <td>religion</td>\n",
       "      <td>158</td>\n",
       "      <td>motorcycles</td>\n",
       "      <td>0.954433</td>\n",
       "    </tr>\n",
       "  </tbody>\n",
       "</table>\n",
       "</div>"
      ],
      "text/plain": [
       "                                               content    target  con_len  \\\n",
       "35   :  :   Nut or not, he was clearly a liar.  He ...  religion      209   \n",
       "45    Dennis, I'm astounded. I didn't know you were...  religion      126   \n",
       "47   John Berryhill, Ph.D. writes   umm, please don...  religion      207   \n",
       "62     Yes, this is certainly one of the traditiona...  religion      536   \n",
       "85    Christian anti-Semitism comes from the obviou...  religion      209   \n",
       "95    I suppose these illegal guns have been found?...  religion      117   \n",
       "115  Mr. Clinton said today that the horrible trage...  religion      403   \n",
       "148  You could argue that if you wanted, but I thin...  religion      585   \n",
       "169  Sorry, the San Jose based Rosicrucian order is...  religion      470   \n",
       "176    Speaking as one who knows relativity and qua...  religion      252   \n",
       "192    How do you know? Were you there?  While obvi...  religion      781   \n",
       "233     Huh, if ignorance is strength, then I won't...  religion      153   \n",
       "241  ...   Nearly all of them.  Witness LA   Fireme...  religion      810   \n",
       "267  To: margoli watson.ibm.com  Larry Margolis  Fr...  religion      554   \n",
       "275   MUNCH!   It would be funny if it wasn't so da...  religion      180   \n",
       "332   I assume you have evidence that he was respon...  religion      835   \n",
       "333  Is there evidence independent of the FBI that ...  religion      315   \n",
       "380   ... or consider the thousands in Central Amer...  religion      158   \n",
       "\n",
       "           predicted     score  \n",
       "35          politics  0.840676  \n",
       "45          for sale  0.190846  \n",
       "47      christianity  0.377686  \n",
       "62          for sale  0.547040  \n",
       "85          religion  0.704521  \n",
       "95              guns  0.995975  \n",
       "115     christianity  0.995211  \n",
       "148         religion  0.735926  \n",
       "169         religion  0.828335  \n",
       "176         politics  0.139541  \n",
       "192     cryptography  0.820867  \n",
       "233  the middle east  0.347179  \n",
       "241             guns  0.923688  \n",
       "267         for sale  0.440816  \n",
       "275         politics  0.911157  \n",
       "332         religion  0.814618  \n",
       "333         religion  0.921552  \n",
       "380      motorcycles  0.954433  "
      ]
     },
     "execution_count": 40,
     "metadata": {},
     "output_type": "execute_result"
    },
    {
     "data": {
      "application/javascript": [
       "\n",
       "            setTimeout(function() {\n",
       "                var nbb_cell_id = 40;\n",
       "                var nbb_unformatted_code = \"results_df[results_df[\\\"target\\\"] == \\\"religion\\\"]\";\n",
       "                var nbb_formatted_code = \"results_df[results_df[\\\"target\\\"] == \\\"religion\\\"]\";\n",
       "                var nbb_cells = Jupyter.notebook.get_cells();\n",
       "                for (var i = 0; i < nbb_cells.length; ++i) {\n",
       "                    if (nbb_cells[i].input_prompt_number == nbb_cell_id) {\n",
       "                        if (nbb_cells[i].get_text() == nbb_unformatted_code) {\n",
       "                             nbb_cells[i].set_text(nbb_formatted_code);\n",
       "                        }\n",
       "                        break;\n",
       "                    }\n",
       "                }\n",
       "            }, 500);\n",
       "            "
      ],
      "text/plain": [
       "<IPython.core.display.Javascript object>"
      ]
     },
     "metadata": {},
     "output_type": "display_data"
    }
   ],
   "source": [
    "results_df[results_df[\"target\"] == \"religion\"]"
   ]
  },
  {
   "cell_type": "code",
   "execution_count": null,
   "id": "4c68bbf7",
   "metadata": {},
   "outputs": [],
   "source": []
  }
 ],
 "metadata": {
  "kernelspec": {
   "display_name": "Python 3 (ipykernel)",
   "language": "python",
   "name": "python3"
  },
  "language_info": {
   "codemirror_mode": {
    "name": "ipython",
    "version": 3
   },
   "file_extension": ".py",
   "mimetype": "text/x-python",
   "name": "python",
   "nbconvert_exporter": "python",
   "pygments_lexer": "ipython3",
   "version": "3.9.15"
  }
 },
 "nbformat": 4,
 "nbformat_minor": 5
}
